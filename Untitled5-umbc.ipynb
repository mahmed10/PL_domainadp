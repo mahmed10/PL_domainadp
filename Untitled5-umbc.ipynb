{
 "cells": [
  {
   "cell_type": "code",
   "execution_count": 1,
   "id": "f3d86b9d-04b6-439d-9ced-a88fb7587858",
   "metadata": {},
   "outputs": [
    {
     "name": "stdout",
     "output_type": "stream",
     "text": [
      "/notebooks/checkpoints/SingleDA_SingleBranch_CommonClasses__Source_cityscapes_Target_cityscapes folder already existed\n"
     ]
    }
   ],
   "source": [
    "%run config.py\n",
    "import os\n",
    "import sys\n",
    "from pathlib import Path\n",
    "\n",
    "import os.path as osp\n",
    "import numpy as np\n",
    "import torch\n",
    "import torch.backends.cudnn as cudnn\n",
    "import torch.nn.functional as F\n",
    "import torch.optim as optim\n",
    "#from tensorboardX import SummaryWriter\n",
    "from torch import nn\n",
    "from torchvision.utils import make_grid\n",
    "from torchvision import transforms\n",
    "from tqdm import tqdm\n",
    "from PIL import Image\n",
    "\n",
    "from domain_adaptation.discriminator import get_fc_discriminator\n",
    "from domain_adaptation.utils.func import adjust_learning_rate, adjust_learning_rate_discriminator\n",
    "from domain_adaptation.utils.func import loss_calc, bce_loss\n",
    "from domain_adaptation.utils.loss import entropy_loss\n",
    "from domain_adaptation.utils.func import prob_2_entropy\n",
    "from domain_adaptation.utils.viz_segmask import colorize_mask\n",
    "\n",
    "from evaluate import iou_calculation\n",
    "import matplotlib.pyplot as plt\n",
    "from evaluate import *"
   ]
  },
  {
   "cell_type": "code",
   "execution_count": 2,
   "id": "a8ddaaef-edf4-4389-90d0-be9e1b3b6da2",
   "metadata": {},
   "outputs": [],
   "source": [
    "targetloader = data.setup_loaders(['umbc'], ['./dataset/UMBC/vallist.txt'], 2)\n",
    "device = 'cuda:0'"
   ]
  },
  {
   "cell_type": "code",
   "execution_count": 18,
   "id": "aeddcd93-9354-4ab0-b9b6-aa9b2345ae10",
   "metadata": {},
   "outputs": [],
   "source": [
    "%run models/deeplabv3.py\n",
    "from models import deeplabv3\n",
    "model = deeplabv3.resnet101(pretrained=True)\n",
    "model1 = deeplabv3.resnet101(pretrained=True)\n",
    "model2 = deeplabv3.resnet101(pretrained=True)\n",
    "MODEL_PATH='./checkpoints/SingleDA_SingleBranch_CommonClasses__Source_umbc_Target_umbc/e_0099_withrmifocalloss, and easyrmi'\n",
    "# MODEL_PATH='./checkpoints/SingleDA_SingleBranch_CommonClasses__Source_gta5_Target_umbc/e_0099_withbceloss'\n",
    "checkpoint = torch.load(MODEL_PATH)\n",
    "model.load_state_dict(checkpoint['model_state_dict'])\n",
    "model = model.to(device)\n",
    "\n",
    "MODEL_PATH='./checkpoints/SingleDA_SingleBranch_CommonClasses__Source_umbc_Target_umbc/e_0099_withbce, and hardbce'\n",
    "# MODEL_PATH='./checkpoints/SingleDA_SingleBranch_CommonClasses__Source_gta5_Target_cityscapes/e_0099withrmiloss'\n",
    "checkpoint = torch.load(MODEL_PATH)\n",
    "model1.load_state_dict(checkpoint['model_state_dict'])\n",
    "model1 = model1.to(device)\n",
    "\n",
    "MODEL_PATH='./checkpoints/SingleDA_SingleBranch_CommonClasses__Source_umbc_Target_umbc/e_0099_withrmifocalloss, and hardrmi'\n",
    "# MODEL_PATH='./checkpoints/SingleDA_SingleBranch_CommonClasses__Source_gta5_Target_cityscapes/e_0099withrmiloss'\n",
    "checkpoint = torch.load(MODEL_PATH)\n",
    "model2.load_state_dict(checkpoint['model_state_dict'])\n",
    "model2 = model2.to(device)"
   ]
  },
  {
   "cell_type": "code",
   "execution_count": 4,
   "id": "c28a3c55-5b3b-47a8-86dd-4f4228eb4de5",
   "metadata": {},
   "outputs": [
    {
     "name": "stderr",
     "output_type": "stream",
     "text": [
      "100%|██████████| 65/65 [00:05<00:00, 11.28it/s]\n",
      "/notebooks/domain_adaptation/utils/func.py:66: RuntimeWarning: invalid value encountered in true_divide\n",
      "  return np.diag(hist) / (hist.sum(1) + hist.sum(0) - np.diag(hist))\n"
     ]
    }
   ],
   "source": [
    "targetloader_iter = enumerate(targetloader)\n",
    "hist = np.zeros((20,20))\n",
    "for i_iter in tqdm(range(len(targetloader))):\n",
    "    _, batch = targetloader_iter.__next__()\n",
    "    image, label,_ = batch\n",
    "    image, label = image.to(device), label\n",
    "    # print(image.shape)\n",
    "    with torch.no_grad():\n",
    "        pred_main = model(image)\n",
    "        output = pred_main.cpu().data.numpy()\n",
    "        # output = output.transpose(0,2, 3, 1)\n",
    "        output = np.argmax(output, axis=1)\n",
    "    label = label.numpy()\n",
    "    hist += fast_hist(label.flatten(), output.flatten(), 20)\n",
    "inters_over_union_classes = per_class_iu(hist)"
   ]
  },
  {
   "cell_type": "code",
   "execution_count": 5,
   "id": "e8806cb3-7b55-4e81-bbca-9db27c29ca2d",
   "metadata": {},
   "outputs": [
    {
     "name": "stdout",
     "output_type": "stream",
     "text": [
      "95.76 &\t96.88 &\t78.96 &\t37.18 &\t74.11 &\t28.33 &\t8.28 &\t88.04 &\t79.07 &\t92.26 &\t51.29 &\t81.74 &\t71.24 &\t68.65 &\t67.99\n"
     ]
    }
   ],
   "source": [
    "a = ''\n",
    "j = -1\n",
    "sum = 0\n",
    "for i in inters_over_union_classes*100:\n",
    "    j+=1\n",
    "    if j ==0 or j == 13 or j ==7 or j == 19 or j == 17 or j==18:\n",
    "        continue\n",
    "    a += f'{i:.2f} &\\t'\n",
    "    sum +=i\n",
    "    \n",
    "print(a + f'{sum/14:.2f}') # supervised"
   ]
  },
  {
   "cell_type": "code",
   "execution_count": 9,
   "id": "0f9740a5-46b1-431d-af2f-a75f51971e68",
   "metadata": {},
   "outputs": [
    {
     "name": "stdout",
     "output_type": "stream",
     "text": [
      "83.86 &\t92.55 &\t81.02 &\t49.90 &\t73.08 &\t34.66 &\t7.90 &\t90.89 &\t84.03 &\t92.88 &\t59.48 &\t82.88 &\t35.38 &\t80.63 &\t67.80\n"
     ]
    }
   ],
   "source": [
    "a = ''\n",
    "j = -1\n",
    "sum = 0\n",
    "for i in inters_over_union_classes*100:\n",
    "    j+=1\n",
    "    if j ==0 or j == 13 or j ==7 or j == 19 or j == 17 or j==18:\n",
    "        continue\n",
    "    a += f'{i:.2f} &\\t'\n",
    "    sum +=i\n",
    "    \n",
    "print(a + f'{sum/14:.2f}') # f-rmi hard split"
   ]
  },
  {
   "cell_type": "code",
   "execution_count": 12,
   "id": "42063db9-93fb-4370-9cc3-b0e1ac4eba50",
   "metadata": {},
   "outputs": [
    {
     "name": "stdout",
     "output_type": "stream",
     "text": [
      "48.29 &\t75.18 &\t41.18 &\t0.22 &\t5.23 &\t8.82 &\t6.64 &\t65.81 &\t25.22 &\t83.82 &\t11.99 &\t42.97 &\t29.28 &\t0.00 &\t31.76\n"
     ]
    }
   ],
   "source": [
    "a = ''\n",
    "j = -1\n",
    "sum = 0\n",
    "for i in inters_over_union_classes*100:\n",
    "    j+=1\n",
    "    if j ==0 or j == 13 or j ==7 or j == 19 or j == 17 or j==18:\n",
    "        continue\n",
    "    a += f'{i:.2f} &\\t'\n",
    "    sum +=i\n",
    "    \n",
    "print(a + f'{sum/14:.2f}') # rmi easy split"
   ]
  },
  {
   "cell_type": "code",
   "execution_count": 6,
   "id": "511362d0-0ccd-4836-8d36-d1a6a1116cc6",
   "metadata": {},
   "outputs": [
    {
     "name": "stdout",
     "output_type": "stream",
     "text": [
      "77.50 &\t87.80 &\t55.61 &\t9.32 &\t32.02 &\t15.31 &\t6.04 &\t80.01 &\t67.50 &\t88.45 &\t13.28 &\t60.79 &\t1.02 &\t58.33 &\t46.64\n"
     ]
    }
   ],
   "source": [
    "a = ''\n",
    "j = -1\n",
    "sum = 0\n",
    "for i in inters_over_union_classes*100:\n",
    "    j+=1\n",
    "    if j ==0 or j == 13 or j ==7 or j == 19 or j == 17 or j==18:\n",
    "        continue\n",
    "    a += f'{i:.2f} &\\t'\n",
    "    sum +=i\n",
    "    \n",
    "print(a + f'{sum/14:.2f}') #bce hard split"
   ]
  },
  {
   "cell_type": "code",
   "execution_count": 15,
   "id": "0a7df4dc-08aa-4933-a5d6-4bc275d513f5",
   "metadata": {},
   "outputs": [
    {
     "name": "stdout",
     "output_type": "stream",
     "text": [
      "15.18 &\t11.34 &\t30.51 &\t1.04 &\t0.64 &\t6.41 &\t3.45 &\t61.96 &\t28.27 &\t74.47 &\t5.37 &\t31.90 &\t0.38 &\t4.18 &\t19.65\n"
     ]
    }
   ],
   "source": [
    "a = ''\n",
    "j = -1\n",
    "sum = 0\n",
    "for i in inters_over_union_classes*100:\n",
    "    j+=1\n",
    "    if j ==0 or j == 13 or j ==7 or j == 19 or j == 17 or j==18:\n",
    "        continue\n",
    "    a += f'{i:.2f} &\\t'\n",
    "    sum +=i\n",
    "    \n",
    "print(a + f'{sum/14:.2f}') #frmi domain adaptation split"
   ]
  },
  {
   "cell_type": "code",
   "execution_count": 18,
   "id": "84da05f1-78f9-4aad-8f8f-8de80a581325",
   "metadata": {},
   "outputs": [
    {
     "name": "stdout",
     "output_type": "stream",
     "text": [
      "15.10 &\t14.19 &\t28.45 &\t2.29 &\t7.52 &\t8.40 &\t3.08 &\t57.81 &\t25.87 &\t67.47 &\t4.85 &\t40.01 &\t0.35 &\t6.19 &\t20.11\n"
     ]
    }
   ],
   "source": [
    "a = ''\n",
    "j = -1\n",
    "sum = 0\n",
    "for i in inters_over_union_classes*100:\n",
    "    j+=1\n",
    "    if j ==0 or j == 13 or j ==7 or j == 19 or j == 17 or j==18:\n",
    "        continue\n",
    "    a += f'{i:.2f} &\\t'\n",
    "    sum +=i\n",
    "    \n",
    "print(a + f'{sum/14:.2f}') #bce domain adaptation split"
   ]
  },
  {
   "cell_type": "code",
   "execution_count": 4,
   "id": "9dcf42d0-f965-41ae-aa42-0f195c428e94",
   "metadata": {},
   "outputs": [],
   "source": [
    "def get_color_pallete(npimg, dataset='voc'):\n",
    "    out_img = Image.fromarray(npimg.astype('uint8')).convert('P')\n",
    "    if dataset == 'city':\n",
    "        cityspallete = [\n",
    "            0, 0, 0,\n",
    "            128, 64, 128,\n",
    "            244, 35, 232,\n",
    "            70, 70, 70,\n",
    "            102, 102, 156,\n",
    "            190, 153, 153,\n",
    "            153, 153, 153,\n",
    "            250, 170, 30,\n",
    "            220, 220, 0,\n",
    "            107, 142, 35,\n",
    "            152, 251, 152,\n",
    "            0, 130, 180,\n",
    "            220, 20, 60,\n",
    "            255, 0, 0,\n",
    "            0, 0, 142,\n",
    "            0, 0, 70,\n",
    "            0, 60, 100,\n",
    "            0, 80, 100,\n",
    "            0, 0, 230,\n",
    "            119, 11, 32,\n",
    "        ]\n",
    "        out_img.putpalette(cityspallete)\n",
    "    else:\n",
    "        vocpallete = _getvocpallete(256)\n",
    "        out_img.putpalette(vocpallete)\n",
    "    return out_img"
   ]
  },
  {
   "cell_type": "code",
   "execution_count": 5,
   "id": "54579d1a-62b2-416d-b406-6966a3ac21cb",
   "metadata": {},
   "outputs": [],
   "source": [
    "targetloader_iter = enumerate(targetloader)"
   ]
  },
  {
   "cell_type": "code",
   "execution_count": 23,
   "id": "de4192ff-00b1-4981-8ebd-08d959f0a068",
   "metadata": {},
   "outputs": [],
   "source": [
    "_, batch = targetloader_iter.__next__()\n",
    "image, label,_ = batch\n",
    "image, label = image.to(device), label\n",
    "with torch.no_grad():\n",
    "        pred_main = model(image)\n",
    "        output = pred_main.cpu().data.numpy()\n",
    "        output = np.argmax(output, axis=1)\n",
    "        pred_main = model1(image)\n",
    "        output1 = pred_main.cpu().data.numpy()\n",
    "        output1 = np.argmax(output1, axis=1)\n",
    "        pred_main = model2(image)\n",
    "        output2 = pred_main.cpu().data.numpy()\n",
    "        output2 = np.argmax(output2, axis=1)"
   ]
  },
  {
   "cell_type": "code",
   "execution_count": 29,
   "id": "c9d8bd1b-3589-4016-b285-56043f247abe",
   "metadata": {},
   "outputs": [
    {
     "data": {
      "image/png": "[encoded data removed]",
      "text/plain": [
       "<Figure size 576x216 with 5 Axes>"
      ]
     },
     "metadata": {
      "needs_background": "light"
     },
     "output_type": "display_data"
    }
   ],
   "source": [
    "fig = plt.figure(figsize=(8, 3))\n",
    "\n",
    "plt.subplot(1, 5, 1)\n",
    "trans = transforms.ToPILImage()\n",
    "fig = plt.imshow(trans(image[0]))\n",
    "fig.axes.get_xaxis().set_visible(False)\n",
    "fig.axes.get_yaxis().set_visible(False)\n",
    "\n",
    "plt.subplot(1, 5, 2)\n",
    "mask = get_color_pallete(label.numpy()[0], \"city\")\n",
    "im = plt.imshow(mask)\n",
    "im.axes.get_xaxis().set_visible(False)\n",
    "im.axes.get_yaxis().set_visible(False)\n",
    "\n",
    "plt.subplot(1, 5, 3)\n",
    "mask = get_color_pallete(output[0], \"city\")\n",
    "im = plt.imshow(mask)\n",
    "im.axes.get_xaxis().set_visible(False)\n",
    "im.axes.get_yaxis().set_visible(False)\n",
    "\n",
    "plt.subplot(1, 5, 4)\n",
    "mask = get_color_pallete(output1[0], \"city\")\n",
    "im = plt.imshow(mask)\n",
    "im.axes.get_xaxis().set_visible(False)\n",
    "im.axes.get_yaxis().set_visible(False)\n",
    "\n",
    "plt.subplot(1, 5, 5)\n",
    "mask = get_color_pallete(output2[0], \"city\")\n",
    "im = plt.imshow(mask)\n",
    "im.axes.get_xaxis().set_visible(False)\n",
    "im.axes.get_yaxis().set_visible(False)\n",
    "plt.savefig('./new/gtatoumbc.png', bbox_inches='tight', dpi = 1000)"
   ]
  },
  {
   "cell_type": "code",
   "execution_count": 94,
   "id": "b83dbd79-56ed-4e8b-995c-87c436b59863",
   "metadata": {},
   "outputs": [],
   "source": [
    "mask = get_color_pallete(output[0], \"city\")"
   ]
  },
  {
   "cell_type": "code",
   "execution_count": 95,
   "id": "c32152c9-b19f-46d8-85cd-c623504d99ec",
   "metadata": {},
   "outputs": [
    {
     "data": {
      "image/png": "[encoded data removed]",
      "text/plain": [
       "<Figure size 432x288 with 1 Axes>"
      ]
     },
     "metadata": {
      "needs_background": "light"
     },
     "output_type": "display_data"
    }
   ],
   "source": [
    "plt.figure()\n",
    "im = plt.imshow(mask)"
   ]
  },
  {
   "cell_type": "code",
   "execution_count": null,
   "id": "ed36cff8-002e-4947-a849-32e8fb45dacd",
   "metadata": {},
   "outputs": [],
   "source": []
  }
 ],
 "metadata": {
  "kernelspec": {
   "display_name": "Python 3",
   "language": "python",
   "name": "python3"
  },
  "language_info": {
   "codemirror_mode": {
    "name": "ipython",
    "version": 3
   },
   "file_extension": ".py",
   "mimetype": "text/x-python",
   "name": "python",
   "nbconvert_exporter": "python",
   "pygments_lexer": "ipython3",
   "version": "3.6.9"
  }
 },
 "nbformat": 4,
 "nbformat_minor": 5
}
